{
 "cells": [
  {
   "attachments": {},
   "cell_type": "markdown",
   "metadata": {},
   "source": [
    "# A01706155 - Manolo Ramírez Pintor\n",
    "## Unsafe Furry Content Detector - CNN\n",
    "\n",
    "En este documento vamos a hacer un detector de imágenes NSFW del furry fandom. Con esto, podemos crear un filtro de contenido para detectar y evitar que se suba este tipo de contenido en algunas plataformas de arte que deberían ser SFW, incluyendo redes sociales."
   ]
  },
  {
   "cell_type": "code",
   "execution_count": 1,
   "metadata": {},
   "outputs": [],
   "source": [
    "# Failsafe para volver a generar todo el aumento de datos\n",
    "!rm -rf augmented"
   ]
  },
  {
   "cell_type": "code",
   "execution_count": 2,
   "metadata": {},
   "outputs": [
    {
     "name": "stderr",
     "output_type": "stream",
     "text": [
      "2023-05-19 21:59:45.547945: I tensorflow/tsl/cuda/cudart_stub.cc:28] Could not find cuda drivers on your machine, GPU will not be used.\n",
      "2023-05-19 21:59:45.683457: I tensorflow/tsl/cuda/cudart_stub.cc:28] Could not find cuda drivers on your machine, GPU will not be used.\n",
      "2023-05-19 21:59:45.685434: I tensorflow/core/platform/cpu_feature_guard.cc:182] This TensorFlow binary is optimized to use available CPU instructions in performance-critical operations.\n",
      "To enable the following instructions: AVX2 FMA, in other operations, rebuild TensorFlow with the appropriate compiler flags.\n",
      "2023-05-19 21:59:47.572446: W tensorflow/compiler/tf2tensorrt/utils/py_utils.cc:38] TF-TRT Warning: Could not find TensorRT\n"
     ]
    }
   ],
   "source": [
    "# Importamos las librerías necesarias\n",
    "import matplotlib.pyplot as plt\n",
    "import os\n",
    "import tensorflow as tf\n",
    "from tensorflow.keras.preprocessing.image import ImageDataGenerator\n",
    "\n",
    "# Establecemos la ruta por defecto que vamos a utilizar\n",
    "path = \"/\" # Root\n",
    "\n",
    "# Establecemos el directorio de imagenes, train y test\n",
    "base_dir = 'images'\n",
    "train_dir = os.path.join(base_dir,'train')\n",
    "test_dir = os.path.join(base_dir, 'test')\n",
    "\n",
    "# Creamos un imageDataGenerator con los valores de data augmentation\n",
    "train_datagen = ImageDataGenerator(\n",
    " rescale = 1./255,\n",
    " rotation_range = 25,\n",
    " width_shift_range = 0.1,\n",
    " height_shift_range = 0.1,\n",
    " shear_range = 0.2,\n",
    " zoom_range = 0.15,\n",
    " horizontal_flip = True)"
   ]
  },
  {
   "cell_type": "code",
   "execution_count": 3,
   "metadata": {},
   "outputs": [
    {
     "name": "stdout",
     "output_type": "stream",
     "text": [
      "NSFW_Furry_Image_Detector_2_A01706155.ipynb  augmented\timages\timages2\n"
     ]
    }
   ],
   "source": [
    "# Creamos la carpeta augmented y revisamos que todo está en orden\n",
    "!mkdir augmented\n",
    "!ls"
   ]
  },
  {
   "cell_type": "code",
   "execution_count": 7,
   "metadata": {},
   "outputs": [
    {
     "name": "stdout",
     "output_type": "stream",
     "text": [
      "Found 2672 images belonging to 2 classes.\n"
     ]
    }
   ],
   "source": [
    "# Creamos batches de 16 imágenes para mostrárselas \n",
    "# al entrenamiento a través del datagen que creamos\n",
    "# además, usamos jpg para ahorrar un poco de espacio\n",
    "train_generator = train_datagen.flow_from_directory(\n",
    " train_dir,\n",
    " target_size = (256, 256),\n",
    " batch_size = 16,\n",
    " class_mode ='binary',\n",
    " save_to_dir= 'augmented/', \n",
    " save_prefix='aug',\n",
    " save_format='jpg'\n",
    " )"
   ]
  },
  {
   "cell_type": "code",
   "execution_count": 8,
   "metadata": {},
   "outputs": [
    {
     "name": "stdout",
     "output_type": "stream",
     "text": [
      "Model: \"sequential_1\"\n",
      "_________________________________________________________________\n",
      " Layer (type)                Output Shape              Param #   \n",
      "=================================================================\n",
      " conv2d_1 (Conv2D)           (None, 254, 254, 32)      896       \n",
      "                                                                 \n",
      " max_pooling2d_1 (MaxPooling  (None, 127, 127, 32)     0         \n",
      " 2D)                                                             \n",
      "                                                                 \n",
      " flatten_1 (Flatten)         (None, 516128)            0         \n",
      "                                                                 \n",
      " dense_1 (Dense)             (None, 1)                 516129    \n",
      "                                                                 \n",
      "=================================================================\n",
      "Total params: 517,025\n",
      "Trainable params: 517,025\n",
      "Non-trainable params: 0\n",
      "_________________________________________________________________\n"
     ]
    }
   ],
   "source": [
    "# Importamos las siguientes librerías para crear un modelo\n",
    "# muy sencillo y sólo generar las imágenes nuevas.\n",
    "from tensorflow.keras import models\n",
    "from tensorflow.keras import layers\n",
    "\n",
    "model = models.Sequential()\n",
    "model.add(layers.Conv2D(32, (3, 3), activation=\"relu\", input_shape = (256,256, 3)))\n",
    "model.add(layers.MaxPooling2D((2, 2)))\n",
    "model.add(layers.Flatten())\n",
    "model.add(layers.Dense(1, activation=\"sigmoid\"))\n",
    "model.summary()\n",
    "\n",
    "model.compile(optimizer=tf.keras.optimizers.RMSprop(learning_rate=1e-4), loss=\"binary_crossentropy\", metrics=[\"acc\"])"
   ]
  },
  {
   "cell_type": "code",
   "execution_count": 9,
   "metadata": {},
   "outputs": [
    {
     "name": "stdout",
     "output_type": "stream",
     "text": [
      "Epoch 1/100\n"
     ]
    },
    {
     "name": "stderr",
     "output_type": "stream",
     "text": [
      "2023-05-19 22:04:27.468143: I tensorflow/core/common_runtime/executor.cc:1197] [/device:CPU:0] (DEBUG INFO) Executor start aborting (this does not indicate an error and you can ignore this message): INVALID_ARGUMENT: You must feed a value for placeholder tensor 'Placeholder/_0' with dtype int32\n",
      "\t [[{{node Placeholder/_0}}]]\n"
     ]
    },
    {
     "name": "stdout",
     "output_type": "stream",
     "text": [
      "167/167 [==============================] - 96s 569ms/step - loss: 1.0070 - acc: 0.5625\n",
      "Epoch 2/100\n",
      "167/167 [==============================] - 98s 587ms/step - loss: 0.7136 - acc: 0.6153\n",
      "Epoch 3/100\n",
      "167/167 [==============================] - 105s 630ms/step - loss: 0.6267 - acc: 0.6639\n",
      "Epoch 4/100\n",
      "167/167 [==============================] - 105s 631ms/step - loss: 0.6074 - acc: 0.6751\n",
      "Epoch 5/100\n",
      "167/167 [==============================] - 106s 635ms/step - loss: 0.5966 - acc: 0.6834\n",
      "Epoch 6/100\n",
      "167/167 [==============================] - 118s 704ms/step - loss: 0.5798 - acc: 0.6942\n",
      "Epoch 7/100\n",
      "167/167 [==============================] - 109s 653ms/step - loss: 0.5872 - acc: 0.6897\n",
      "Epoch 8/100\n",
      "167/167 [==============================] - 107s 639ms/step - loss: 0.5789 - acc: 0.6972\n",
      "Epoch 9/100\n",
      "167/167 [==============================] - 109s 653ms/step - loss: 0.5702 - acc: 0.7066\n",
      "Epoch 10/100\n",
      "167/167 [==============================] - 105s 628ms/step - loss: 0.5691 - acc: 0.7032\n",
      "Epoch 11/100\n",
      "146/167 [=========================>....] - ETA: 12s - loss: 0.5617 - acc: 0.7162"
     ]
    }
   ],
   "source": [
    "# Establecemos que queremos trabajar a full con\n",
    "# todos los núcleos de nuestra computadora\n",
    "with tf.device('/cpu:0'):\n",
    "\thistory = model.fit(\n",
    "\t\t\t\t\t\t\ttrain_generator, \n",
    "\t\t\t\t\t\t\tepochs = 100)\n",
    "\t\t\t\t\n",
    "# Creamos variables para accuracy y loss\t\t\t\n",
    "acc = history.history['acc']\n",
    "loss = history.history['loss']\n",
    "\n",
    "epochs = range(1, len(acc)+1)"
   ]
  }
 ],
 "metadata": {
  "kernelspec": {
   "display_name": "Python 3",
   "language": "python",
   "name": "python3"
  },
  "language_info": {
   "codemirror_mode": {
    "name": "ipython",
    "version": 3
   },
   "file_extension": ".py",
   "mimetype": "text/x-python",
   "name": "python",
   "nbconvert_exporter": "python",
   "pygments_lexer": "ipython3",
   "version": "3.10.6"
  },
  "orig_nbformat": 4
 },
 "nbformat": 4,
 "nbformat_minor": 2
}
